{
 "cells": [
  {
   "cell_type": "code",
   "execution_count": 1,
   "id": "supposed-tobacco",
   "metadata": {},
   "outputs": [],
   "source": [
    "import numpy as np\n",
    "import matplotlib.pyplot as plt\n",
    "import pandas\n",
    "from sklearn.linear_model import LinearRegression\n",
    "from sklearn.preprocessing import PolynomialFeatures\n",
    "from sklearn.metrics import mean_squared_error\n",
    "import pickle"
   ]
  },
  {
   "cell_type": "code",
   "execution_count": 2,
   "id": "corporate-chaos",
   "metadata": {},
   "outputs": [],
   "source": [
    "# taking data from files\n",
    "with open('../data/test.pkl', 'rb') as file1:\n",
    "    data = pickle.load(file1)\n",
    "with open('../data/train.pkl', 'rb') as file2:\n",
    "    data2 = pickle.load(file2)"
   ]
  },
  {
   "cell_type": "code",
   "execution_count": 3,
   "id": "arctic-treatment",
   "metadata": {},
   "outputs": [],
   "source": [
    "# shuffling data\n",
    "np.random.shuffle(data2)\n",
    "np.random.shuffle(data)"
   ]
  },
  {
   "cell_type": "code",
   "execution_count": 4,
   "id": "actual-salem",
   "metadata": {},
   "outputs": [],
   "source": [
    "# splitting data into coordinates\n",
    "x = data2[:,:-1]\n",
    "y = data2[:,1]\n",
    "test_x = data[:,:-1]\n",
    "test_y = data[:,1]"
   ]
  },
  {
   "cell_type": "code",
   "execution_count": 5,
   "id": "residential-passage",
   "metadata": {},
   "outputs": [],
   "source": [
    "# initialising tables\n",
    "v_table = np.zeros((10,10))\n",
    "b_table = np.zeros((10,10))"
   ]
  },
  {
   "cell_type": "code",
   "execution_count": 6,
   "id": "rough-conjunction",
   "metadata": {},
   "outputs": [],
   "source": [
    "# initialising arrays\n",
    "bias = np.zeros((20))\n",
    "bias2_avg = np.zeros((20))\n",
    "var_avg = np.zeros((20))\n",
    "err_avg = np.zeros((20))\n",
    "tot_avg = np.zeros((20))\n",
    "irr_avg = np.zeros((20))\n",
    "xarr = np.zeros((20))"
   ]
  },
  {
   "cell_type": "code",
   "execution_count": 7,
   "id": "identical-transmission",
   "metadata": {},
   "outputs": [],
   "source": [
    "# splitting training set into 10 parts\n",
    "train_x = np.array((np.array_split(x, 10)))\n",
    "train_y = np.array((np.array_split(y, 10)))"
   ]
  },
  {
   "cell_type": "code",
   "execution_count": 9,
   "id": "juvenile-morrison",
   "metadata": {},
   "outputs": [],
   "source": [
    "for degree in range (1,21):\n",
    "\n",
    "    res1 = np.zeros((10,80))\n",
    "    res2 = np.zeros((10,80))\n",
    "    #for training set\n",
    "    for i in range (0,10):\n",
    "        poly = PolynomialFeatures(degree=degree, include_bias=False)\n",
    "\n",
    "        #Transform the polynomial features as required ans training model\n",
    "        X = poly.fit_transform(train_x[i])\n",
    "        reg = LinearRegression()\n",
    "        reg.fit(X, train_y[i])\n",
    "        X_TEST = poly.fit_transform(test_x)\n",
    "        y_predict = reg.predict(X_TEST)\n",
    "\n",
    "        res1[i] = y_predict\n",
    "        res2[i] = (test_y - y_predict)**2\n",
    "\n",
    "    #calculate bias\n",
    "    point_avg=np.mean(res1,axis=0)\n",
    "    bias2_avg[degree-1]=np.mean((point_avg-test_y)**2)\n",
    "    bias[degree-1]=np.abs(np.mean((point_avg-test_y)))\n",
    "    new_avg=np.mean(res2, axis=0)\n",
    "    #calculate variance\n",
    "    point_var = np.var(res1,axis=0)\n",
    "    var_avg[degree-1]=np.mean(point_var)\n",
    "    #irreducible error calc\n",
    "    err_avg[degree-1]=np.mean(new_avg) - (bias2_avg[degree-1] + var_avg[degree-1])\n",
    "    # total error calc\n",
    "    tot_avg[degree-1]=np.mean(new_avg)"
   ]
  },
  {
   "cell_type": "code",
   "execution_count": 10,
   "id": "amateur-williams",
   "metadata": {},
   "outputs": [],
   "source": [
    "fin_avg = np.mean(err_avg)\n",
    "#initialising x for graph\n",
    "use = np.zeros((20))\n",
    "for degree in range (1,21):\n",
    "    use[degree-1] = fin_avg\n",
    "    xarr[degree-1] = degree"
   ]
  },
  {
   "cell_type": "code",
   "execution_count": 11,
   "id": "veterinary-effects",
   "metadata": {},
   "outputs": [
    {
     "name": "stdout",
     "output_type": "stream",
     "text": [
      " Degree       Bias      Variance\n",
      "      1 232.565490  21760.356917\n",
      "      2 229.077945  37140.597002\n",
      "      3  15.645198  47469.149138\n",
      "      4   9.103330  58143.810065\n",
      "      5   8.554731  69406.470349\n",
      "      6  10.720082  88238.247697\n",
      "      7   7.677872 111533.146874\n",
      "      8  12.491992 130503.400833\n",
      "      9   9.118063 131880.634205\n",
      "     10   5.214680 150741.316688\n",
      "     11   8.863481 160335.830357\n",
      "     12   0.731654 166737.752347\n",
      "     13  12.422193 202657.491651\n",
      "     14  13.150980 190155.482776\n",
      "     15  21.270304 230422.810622\n",
      "     16  19.664235 243329.647629\n",
      "     17  29.381615 293182.637364\n",
      "     18  28.821246 306279.902143\n",
      "     19  37.987983 371169.461054\n",
      "     20  38.784316 385938.371441\n",
      "\n"
     ]
    }
   ],
   "source": [
    "# table 1\n",
    "bias_table=pandas.DataFrame({'Degree':np.array(range(1,21)),'Bias':bias,'Variance': var_avg})\n",
    "print(bias_table.to_string(index=False))\n",
    "print('')"
   ]
  },
  {
   "cell_type": "code",
   "execution_count": 12,
   "id": "conceptual-inquiry",
   "metadata": {},
   "outputs": [
    {
     "name": "stdout",
     "output_type": "stream",
     "text": [
      " Degree  Irreducible Error\n",
      "      1      -1.164153e-10\n",
      "      2      -2.328306e-10\n",
      "      3       0.000000e+00\n",
      "      4      -4.365575e-11\n",
      "      5       1.455192e-11\n",
      "      6       1.455192e-11\n",
      "      7       2.910383e-11\n",
      "      8      -2.910383e-11\n",
      "      9       0.000000e+00\n",
      "     10      -2.910383e-11\n",
      "     11      -2.910383e-11\n",
      "     12       2.910383e-11\n",
      "     13       0.000000e+00\n",
      "     14       2.910383e-11\n",
      "     15       0.000000e+00\n",
      "     16       5.820766e-11\n",
      "     17       0.000000e+00\n",
      "     18       0.000000e+00\n",
      "     19      -1.164153e-10\n",
      "     20       1.164153e-10\n"
     ]
    }
   ],
   "source": [
    "# table 2\n",
    "error_table=pandas.DataFrame({'Degree':np.array(range(1,21)), 'Irreducible Error':err_avg[:]})\n",
    "print(error_table.to_string(index=False))"
   ]
  },
  {
   "cell_type": "code",
   "execution_count": 13,
   "id": "julian-slovenia",
   "metadata": {},
   "outputs": [
    {
     "data": {
      "image/png": "[encoded data removed]",
      "text/plain": [
       "<Figure size 432x288 with 1 Axes>"
      ]
     },
     "metadata": {
      "needs_background": "light"
     },
     "output_type": "display_data"
    }
   ],
   "source": [
    "plt.plot(xarr[:], bias2_avg[:], label='Bias^2', color = 'blue')\n",
    "plt.plot(xarr[:], var_avg[:],label='Variance', color = 'red')\n",
    "plt.plot(xarr[:], tot_avg[:],label='Total Error', color = 'black')\n",
    "plt.plot(xarr[:], err_avg[:],label='Irreducible Error', color = 'lightgreen')\n",
    "plt.ylabel('Error', fontsize='medium')\n",
    "plt.xlabel('Model Complexity', fontsize='medium')\n",
    "plt.title(\"Bias vs Variance\")\n",
    "plt.legend()\n",
    "plt.show()"
   ]
  },
  {
   "cell_type": "code",
   "execution_count": 14,
   "id": "small-grill",
   "metadata": {},
   "outputs": [
    {
     "data": {
      "image/png": "[encoded data removed]",
      "text/plain": [
       "<Figure size 432x288 with 1 Axes>"
      ]
     },
     "metadata": {
      "needs_background": "light"
     },
     "output_type": "display_data"
    }
   ],
   "source": [
    "plt.xlabel('Model Complexity', fontsize='medium')\n",
    "plt.ylabel('Irreducible Error', fontsize='medium')\n",
    "plt.title(\"Irreducible Error\")\n",
    "plt.plot(err_avg[:],label='Irreducible Error', color = 'black')\n",
    "plt.plot(use[:],label='mean', color='lightgreen')\n",
    "plt.legend()\n",
    "plt.show()"
   ]
  },
  {
   "cell_type": "code",
   "execution_count": null,
   "id": "aerial-forward",
   "metadata": {},
   "outputs": [],
   "source": []
  }
 ],
 "metadata": {
  "kernelspec": {
   "display_name": "Python 3",
   "language": "python",
   "name": "python3"
  },
  "language_info": {
   "codemirror_mode": {
    "name": "ipython",
    "version": 3
   },
   "file_extension": ".py",
   "mimetype": "text/x-python",
   "name": "python",
   "nbconvert_exporter": "python",
   "pygments_lexer": "ipython3",
   "version": "3.8.5"
  }
 },
 "nbformat": 4,
 "nbformat_minor": 5
}
