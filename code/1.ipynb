{
 "cells": [
  {
   "cell_type": "code",
   "execution_count": 2,
   "id": "enormous-despite",
   "metadata": {},
   "outputs": [],
   "source": [
    "import numpy\n",
    "import pickle\n",
    "import matplotlib.pyplot as plt\n",
    "from sklearn.linear_model import LinearRegression\n",
    "from sklearn.preprocessing import PolynomialFeatures\n",
    "from sklearn.pipeline import Pipeline\n",
    "from sklearn.metrics import mean_squared_error\n",
    "from sklearn.metrics import r2_score\n",
    "import pandas"
   ]
  },
  {
   "cell_type": "code",
   "execution_count": 3,
   "id": "czech-projection",
   "metadata": {},
   "outputs": [],
   "source": [
    "# taking data from files\n",
    "with open('../data/test.pkl', 'rb') as file1:\n",
    "    data = pickle.load(file1)\n",
    "with open('../data/train.pkl', 'rb') as file2:\n",
    "    data2 = pickle.load(file2)"
   ]
  },
  {
   "cell_type": "code",
   "execution_count": 3,
   "id": "meaningful-doctrine",
   "metadata": {},
   "outputs": [],
   "source": [
    "# shuffling data\n",
    "sz = data2.shape[0]\n",
    "numpy.random.shuffle(data2)\n",
    "sz = data.shape[0]\n",
    "numpy.random.shuffle(data)"
   ]
  },
  {
   "cell_type": "code",
   "execution_count": 4,
   "id": "least-heavy",
   "metadata": {},
   "outputs": [],
   "source": [
    "# splitting data into coordinates\n",
    "x = data2[:,:-1]\n",
    "y = data2[:,1]\n",
    "test_x = data[:,:-1]\n",
    "test_y = data[:,1]"
   ]
  },
  {
   "cell_type": "code",
   "execution_count": 5,
   "id": "premium-chick",
   "metadata": {},
   "outputs": [],
   "source": [
    "# splitting training set into 10 parts\n",
    "train_x = numpy.array((numpy.array_split(x, 10)))\n",
    "train_y = numpy.array((numpy.array_split(y, 10)))"
   ]
  },
  {
   "cell_type": "code",
   "execution_count": 6,
   "id": "hungry-genesis",
   "metadata": {},
   "outputs": [],
   "source": [
    "# initialising tables\n",
    "v_table = numpy.zeros((10,10))\n",
    "b_table = numpy.zeros((10,10))"
   ]
  },
  {
   "cell_type": "code",
   "execution_count": 7,
   "id": "incorporate-local",
   "metadata": {},
   "outputs": [],
   "source": [
    "# initialising arrays\n",
    "bias = numpy.zeros((20))\n",
    "bias2_avg = numpy.zeros((20))\n",
    "var_avg = numpy.zeros((20))\n",
    "err_avg = numpy.zeros((20))\n",
    "tot_avg = numpy.zeros((20))\n",
    "irr_avg = numpy.zeros((20))\n",
    "xarr = numpy.zeros((20))"
   ]
  },
  {
   "cell_type": "code",
   "execution_count": 8,
   "id": "played-fraction",
   "metadata": {},
   "outputs": [],
   "source": [
    "# calc for each degree\n",
    "for degree in range (1,21):\n",
    "    res1 = numpy.zeros((10,80))\n",
    "    res2 = numpy.zeros((10,80))\n",
    "    #for training set\n",
    "    for i in range (10):\n",
    "        poly = PolynomialFeatures(degree=degree, include_bias=False)\n",
    "\n",
    "        #Transform the polynomial features1 as required\n",
    "        X = poly.fit_transform(train_x[i])\n",
    "        X_TEST = poly.fit_transform(test_x)\n",
    "        reg = LinearRegression()\n",
    "\n",
    "        #Train the model for the chosen training set\n",
    "        reg.fit(X, train_y[i])\n",
    "        y_predict = reg.predict(X_TEST)\n",
    "\n",
    "        res1[i] = y_predict\n",
    "        res2[i] = (test_y - y_predict)**2\n",
    "\n",
    "    #calculate bias\n",
    "    point_avg=numpy.mean(res1,axis=0)\n",
    "    bias2_avg[degree-1]=numpy.mean((point_avg-test_y)**2)\n",
    "    bias[degree-1]=numpy.abs(numpy.mean((point_avg-test_y)))\n",
    "    new_avg=numpy.mean(res2, axis=0)\n",
    "    #calculate variance\n",
    "    point_var = numpy.var(res1,axis=0)\n",
    "    var_avg[degree-1]=numpy.mean(point_var)\n",
    "    #irreducible error calc\n",
    "    err_avg[degree-1]=numpy.mean(new_avg) - (bias2_avg[degree-1] + var_avg[degree-1])\n",
    "    # total error calc\n",
    "    tot_avg[degree-1]=numpy.mean(new_avg)\n"
   ]
  },
  {
   "cell_type": "code",
   "execution_count": 9,
   "id": "excess-float",
   "metadata": {},
   "outputs": [],
   "source": [
    "fin_avg = numpy.mean(err_avg)\n",
    "#for starting graph at x=1\n",
    "use = numpy.zeros((20))\n",
    "for degree in range (1,21):\n",
    "    use[degree-1] = fin_avg\n",
    "    xarr[degree-1] = degree"
   ]
  },
  {
   "cell_type": "code",
   "execution_count": 10,
   "id": "southeast-buyer",
   "metadata": {},
   "outputs": [
    {
     "name": "stdout",
     "output_type": "stream",
     "text": [
      " Degree       Bias      Variance  Total Error\n",
      "      1 231.357297  30861.144128 1.033871e+06\n",
      "      2 227.326495  54270.382667 1.010896e+06\n",
      "      3  15.970239  88571.607355 9.860308e+04\n",
      "      4  10.159046 109998.124526 1.190728e+05\n",
      "      5   6.952178 139727.351411 1.481205e+05\n",
      "      6   8.811795 151462.424236 1.593715e+05\n",
      "      7   2.629138 176036.484613 1.842606e+05\n",
      "      8   7.689096 193223.168482 2.016299e+05\n",
      "      9   6.241115 242173.902770 2.513633e+05\n",
      "     10  11.898679 212535.367371 2.226044e+05\n",
      "     11   9.204463 256419.447705 2.670020e+05\n",
      "     12   5.094152 232219.386098 2.528695e+05\n",
      "     13  12.316387 266680.328945 2.792715e+05\n",
      "     14  21.939739 242568.968659 2.696649e+05\n",
      "     15  30.129640 246238.836329 2.959643e+05\n",
      "     16  31.325810 250506.007469 3.081951e+05\n",
      "     17  43.970706 249467.889831 3.532988e+05\n",
      "     18  46.828925 252249.732550 3.652708e+05\n",
      "     19  61.438390 253243.693744 4.397213e+05\n",
      "     20  65.461974 254879.277230 4.522052e+05\n",
      "\n"
     ]
    }
   ],
   "source": [
    "# table 1\n",
    "bias_table=pandas.DataFrame({'Degree':numpy.array(range(1,21)),'Bias':bias,'Variance': var_avg, 'Total Error': tot_avg})\n",
    "print(bias_table.to_string(index=False))\n",
    "print('')"
   ]
  },
  {
   "cell_type": "code",
   "execution_count": 11,
   "id": "stylish-microphone",
   "metadata": {},
   "outputs": [
    {
     "name": "stdout",
     "output_type": "stream",
     "text": [
      " Degree  Irreducible Error\n",
      "      1       1.164153e-10\n",
      "      2       0.000000e+00\n",
      "      3       0.000000e+00\n",
      "      4       1.455192e-11\n",
      "      5       0.000000e+00\n",
      "      6       0.000000e+00\n",
      "      7       0.000000e+00\n",
      "      8       0.000000e+00\n",
      "      9       2.910383e-11\n",
      "     10      -5.820766e-11\n",
      "     11       0.000000e+00\n",
      "     12       2.910383e-11\n",
      "     13       0.000000e+00\n",
      "     14       0.000000e+00\n",
      "     15      -5.820766e-11\n",
      "     16       0.000000e+00\n",
      "     17       0.000000e+00\n",
      "     18      -5.820766e-11\n",
      "     19       1.164153e-10\n",
      "     20       5.820766e-11\n"
     ]
    }
   ],
   "source": [
    "# table 2\n",
    "error_table=pandas.DataFrame({'Degree':numpy.array(range(1,21)), 'Irreducible Error':err_avg[:]})\n",
    "print(error_table.to_string(index=False))"
   ]
  },
  {
   "cell_type": "code",
   "execution_count": 12,
   "id": "mathematical-ontario",
   "metadata": {},
   "outputs": [
    {
     "data": {
      "image/png": "[encoded data removed]",
      "text/plain": [
       "<Figure size 432x288 with 1 Axes>"
      ]
     },
     "metadata": {
      "needs_background": "light"
     },
     "output_type": "display_data"
    }
   ],
   "source": [
    "plt.plot(xarr[:], bias2_avg[:], label='Bias^2', color = 'blue')\n",
    "plt.plot(xarr[:], var_avg[:],label='Variance', color = 'red')\n",
    "plt.plot(xarr[:], tot_avg[:],label='Total Error', color = 'black')\n",
    "plt.plot(xarr[:], err_avg[:],label='Irreducible Error', color = 'lightgreen')\n",
    "plt.xlabel('Model Complexity', fontsize='medium')\n",
    "plt.ylabel('Error', fontsize='medium')\n",
    "plt.title(\"Bias^2 vs Variance\")\n",
    "plt.legend()\n",
    "plt.show()"
   ]
  },
  {
   "cell_type": "code",
   "execution_count": 13,
   "id": "virtual-footwear",
   "metadata": {},
   "outputs": [
    {
     "data": {
      "image/png": "[encoded data removed]",
      "text/plain": [
       "<Figure size 432x288 with 1 Axes>"
      ]
     },
     "metadata": {
      "needs_background": "light"
     },
     "output_type": "display_data"
    }
   ],
   "source": [
    "plt.xlabel('Model Complexity', fontsize='medium')\n",
    "plt.ylabel('Irreducible Error', fontsize='medium')\n",
    "plt.title(\"Irreducible Error\")\n",
    "plt.plot(err_avg[:],label='Irreducible Error', color = 'black')\n",
    "plt.plot(use[:],label='mean', color='lightgreen')\n",
    "plt.legend()\n",
    "plt.show()"
   ]
  },
  {
   "cell_type": "code",
   "execution_count": null,
   "id": "general-candy",
   "metadata": {},
   "outputs": [],
   "source": []
  },
  {
   "cell_type": "code",
   "execution_count": null,
   "id": "discrete-phase",
   "metadata": {},
   "outputs": [],
   "source": []
  }
 ],
 "metadata": {
  "kernelspec": {
   "display_name": "Python 3",
   "language": "python",
   "name": "python3"
  },
  "language_info": {
   "codemirror_mode": {
    "name": "ipython",
    "version": 3
   },
   "file_extension": ".py",
   "mimetype": "text/x-python",
   "name": "python",
   "nbconvert_exporter": "python",
   "pygments_lexer": "ipython3",
   "version": "3.8.5"
  }
 },
 "nbformat": 4,
 "nbformat_minor": 5
}
